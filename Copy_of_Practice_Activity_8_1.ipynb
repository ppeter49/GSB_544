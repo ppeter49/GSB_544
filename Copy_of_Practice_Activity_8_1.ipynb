{
  "nbformat": 4,
  "nbformat_minor": 0,
  "metadata": {
    "colab": {
      "provenance": []
    },
    "kernelspec": {
      "name": "python3",
      "display_name": "Python 3"
    },
    "language_info": {
      "name": "python"
    }
  },
  "cells": [
    {
      "cell_type": "markdown",
      "source": [
        "## The Data\n",
        "\n",
        "At this link, you will find a dataset containing information about heart disease patients: https://www.dropbox.com/scl/fi/0vrpdnq5asmeulc4gd50y/ha_1.csv?rlkey=ciisalceotl77ffqhqe3kujzv&dl=1\n",
        "\n",
        "A description of the original dataset can be found here: https://archive.ics.uci.edu/dataset/45/heart+disease (However, this dataset has been cleaned and reduced, and the people have been given fictious names.)"
      ],
      "metadata": {
        "id": "F9uql3um69hP"
      }
    },
    {
      "cell_type": "code",
      "source": [
        "!pip install sklearn\n",
        "import numpy as np\n",
        "import pandas as pd\n",
        "from sklearn.pipeline import Pipeline\n",
        "from sklearn.neighbors import KNeighborsClassifier\n",
        "from sklearn.tree import DecisionTreeClassifier\n",
        "from sklearn.linear_model import LogisticRegression, LinearRegression\n",
        "from sklearn.preprocessing import StandardScaler, OneHotEncoder, LabelEncoder\n",
        "from sklearn.compose import make_column_selector, ColumnTransformer\n",
        "from sklearn.discriminant_analysis import LinearDiscriminantAnalysis\n",
        "from sklearn.svm import SVC\n",
        "from plotnine import *"
      ],
      "metadata": {
        "id": "13RC7CHBDF8t"
      },
      "execution_count": null,
      "outputs": []
    },
    {
      "cell_type": "markdown",
      "source": [
        "## 1. Logistic Regression\n",
        "\n",
        "Fit a Logistic Regression using only `age` and `chol` (cholesterol) as predictors.\n",
        "\n",
        "For a 55 year old, how high would their cholesterol need to be for the doctors to predict heart disease is present?\n",
        "\n",
        "How high for the doctors to estimate a 90% chance that heart disease is present?"
      ],
      "metadata": {
        "id": "O6wa9AzG7xHW"
      }
    },
    {
      "cell_type": "code",
      "execution_count": 5,
      "metadata": {
        "id": "jc13Bmcr6Rzz"
      },
      "outputs": [],
      "source": [
        "mydata = pd.read_csv(\"https://www.dropbox.com/scl/fi/0vrpdnq5asmeulc4gd50y/ha_1.csv?rlkey=ciisalceotl77ffqhqe3kujzv&dl=1\")"
      ]
    },
    {
      "cell_type": "code",
      "source": [
        "mydata.info()\n",
        "mydata.head()"
      ],
      "metadata": {
        "colab": {
          "base_uri": "https://localhost:8080/",
          "height": 476
        },
        "id": "DhESuaKiDRve",
        "outputId": "e3bb5d4d-ebc6-428b-f62a-cc2f8bd0c275"
      },
      "execution_count": 6,
      "outputs": [
        {
          "output_type": "stream",
          "name": "stdout",
          "text": [
            "<class 'pandas.core.frame.DataFrame'>\n",
            "RangeIndex: 204 entries, 0 to 203\n",
            "Data columns (total 9 columns):\n",
            " #   Column     Non-Null Count  Dtype \n",
            "---  ------     --------------  ----- \n",
            " 0   Name       204 non-null    object\n",
            " 1   age        204 non-null    int64 \n",
            " 2   sex        204 non-null    int64 \n",
            " 3   cp         204 non-null    int64 \n",
            " 4   trtbps     204 non-null    int64 \n",
            " 5   chol       204 non-null    int64 \n",
            " 6   restecg    204 non-null    int64 \n",
            " 7   thalach    204 non-null    int64 \n",
            " 8   diagnosis  204 non-null    object\n",
            "dtypes: int64(7), object(2)\n",
            "memory usage: 14.5+ KB\n"
          ]
        },
        {
          "output_type": "execute_result",
          "data": {
            "text/plain": [
              "                       Name  age  sex  cp  trtbps  chol  restecg  thalach  \\\n",
              "0           Magnolia Cassin   60    1   1     117   230        1      160   \n",
              "1     Dr. Cathern Heathcote   60    0   3     102   318        1      160   \n",
              "2                Miles Wolf   62    0   3     130   263        1       97   \n",
              "3             Mikaila Block   43    1   1     115   303        1      181   \n",
              "4  Mrs. Jacquline Marquardt   66    1   1     120   302        0      151   \n",
              "\n",
              "    diagnosis  \n",
              "0  No Disease  \n",
              "1     Disease  \n",
              "2  No Disease  \n",
              "3     Disease  \n",
              "4     Disease  "
            ],
            "text/html": [
              "\n",
              "  <div id=\"df-432bcec2-699f-4cf8-af65-71903a32fb04\" class=\"colab-df-container\">\n",
              "    <div>\n",
              "<style scoped>\n",
              "    .dataframe tbody tr th:only-of-type {\n",
              "        vertical-align: middle;\n",
              "    }\n",
              "\n",
              "    .dataframe tbody tr th {\n",
              "        vertical-align: top;\n",
              "    }\n",
              "\n",
              "    .dataframe thead th {\n",
              "        text-align: right;\n",
              "    }\n",
              "</style>\n",
              "<table border=\"1\" class=\"dataframe\">\n",
              "  <thead>\n",
              "    <tr style=\"text-align: right;\">\n",
              "      <th></th>\n",
              "      <th>Name</th>\n",
              "      <th>age</th>\n",
              "      <th>sex</th>\n",
              "      <th>cp</th>\n",
              "      <th>trtbps</th>\n",
              "      <th>chol</th>\n",
              "      <th>restecg</th>\n",
              "      <th>thalach</th>\n",
              "      <th>diagnosis</th>\n",
              "    </tr>\n",
              "  </thead>\n",
              "  <tbody>\n",
              "    <tr>\n",
              "      <th>0</th>\n",
              "      <td>Magnolia Cassin</td>\n",
              "      <td>60</td>\n",
              "      <td>1</td>\n",
              "      <td>1</td>\n",
              "      <td>117</td>\n",
              "      <td>230</td>\n",
              "      <td>1</td>\n",
              "      <td>160</td>\n",
              "      <td>No Disease</td>\n",
              "    </tr>\n",
              "    <tr>\n",
              "      <th>1</th>\n",
              "      <td>Dr. Cathern Heathcote</td>\n",
              "      <td>60</td>\n",
              "      <td>0</td>\n",
              "      <td>3</td>\n",
              "      <td>102</td>\n",
              "      <td>318</td>\n",
              "      <td>1</td>\n",
              "      <td>160</td>\n",
              "      <td>Disease</td>\n",
              "    </tr>\n",
              "    <tr>\n",
              "      <th>2</th>\n",
              "      <td>Miles Wolf</td>\n",
              "      <td>62</td>\n",
              "      <td>0</td>\n",
              "      <td>3</td>\n",
              "      <td>130</td>\n",
              "      <td>263</td>\n",
              "      <td>1</td>\n",
              "      <td>97</td>\n",
              "      <td>No Disease</td>\n",
              "    </tr>\n",
              "    <tr>\n",
              "      <th>3</th>\n",
              "      <td>Mikaila Block</td>\n",
              "      <td>43</td>\n",
              "      <td>1</td>\n",
              "      <td>1</td>\n",
              "      <td>115</td>\n",
              "      <td>303</td>\n",
              "      <td>1</td>\n",
              "      <td>181</td>\n",
              "      <td>Disease</td>\n",
              "    </tr>\n",
              "    <tr>\n",
              "      <th>4</th>\n",
              "      <td>Mrs. Jacquline Marquardt</td>\n",
              "      <td>66</td>\n",
              "      <td>1</td>\n",
              "      <td>1</td>\n",
              "      <td>120</td>\n",
              "      <td>302</td>\n",
              "      <td>0</td>\n",
              "      <td>151</td>\n",
              "      <td>Disease</td>\n",
              "    </tr>\n",
              "  </tbody>\n",
              "</table>\n",
              "</div>\n",
              "    <div class=\"colab-df-buttons\">\n",
              "\n",
              "  <div class=\"colab-df-container\">\n",
              "    <button class=\"colab-df-convert\" onclick=\"convertToInteractive('df-432bcec2-699f-4cf8-af65-71903a32fb04')\"\n",
              "            title=\"Convert this dataframe to an interactive table.\"\n",
              "            style=\"display:none;\">\n",
              "\n",
              "  <svg xmlns=\"http://www.w3.org/2000/svg\" height=\"24px\" viewBox=\"0 -960 960 960\">\n",
              "    <path d=\"M120-120v-720h720v720H120Zm60-500h600v-160H180v160Zm220 220h160v-160H400v160Zm0 220h160v-160H400v160ZM180-400h160v-160H180v160Zm440 0h160v-160H620v160ZM180-180h160v-160H180v160Zm440 0h160v-160H620v160Z\"/>\n",
              "  </svg>\n",
              "    </button>\n",
              "\n",
              "  <style>\n",
              "    .colab-df-container {\n",
              "      display:flex;\n",
              "      gap: 12px;\n",
              "    }\n",
              "\n",
              "    .colab-df-convert {\n",
              "      background-color: #E8F0FE;\n",
              "      border: none;\n",
              "      border-radius: 50%;\n",
              "      cursor: pointer;\n",
              "      display: none;\n",
              "      fill: #1967D2;\n",
              "      height: 32px;\n",
              "      padding: 0 0 0 0;\n",
              "      width: 32px;\n",
              "    }\n",
              "\n",
              "    .colab-df-convert:hover {\n",
              "      background-color: #E2EBFA;\n",
              "      box-shadow: 0px 1px 2px rgba(60, 64, 67, 0.3), 0px 1px 3px 1px rgba(60, 64, 67, 0.15);\n",
              "      fill: #174EA6;\n",
              "    }\n",
              "\n",
              "    .colab-df-buttons div {\n",
              "      margin-bottom: 4px;\n",
              "    }\n",
              "\n",
              "    [theme=dark] .colab-df-convert {\n",
              "      background-color: #3B4455;\n",
              "      fill: #D2E3FC;\n",
              "    }\n",
              "\n",
              "    [theme=dark] .colab-df-convert:hover {\n",
              "      background-color: #434B5C;\n",
              "      box-shadow: 0px 1px 3px 1px rgba(0, 0, 0, 0.15);\n",
              "      filter: drop-shadow(0px 1px 2px rgba(0, 0, 0, 0.3));\n",
              "      fill: #FFFFFF;\n",
              "    }\n",
              "  </style>\n",
              "\n",
              "    <script>\n",
              "      const buttonEl =\n",
              "        document.querySelector('#df-432bcec2-699f-4cf8-af65-71903a32fb04 button.colab-df-convert');\n",
              "      buttonEl.style.display =\n",
              "        google.colab.kernel.accessAllowed ? 'block' : 'none';\n",
              "\n",
              "      async function convertToInteractive(key) {\n",
              "        const element = document.querySelector('#df-432bcec2-699f-4cf8-af65-71903a32fb04');\n",
              "        const dataTable =\n",
              "          await google.colab.kernel.invokeFunction('convertToInteractive',\n",
              "                                                    [key], {});\n",
              "        if (!dataTable) return;\n",
              "\n",
              "        const docLinkHtml = 'Like what you see? Visit the ' +\n",
              "          '<a target=\"_blank\" href=https://colab.research.google.com/notebooks/data_table.ipynb>data table notebook</a>'\n",
              "          + ' to learn more about interactive tables.';\n",
              "        element.innerHTML = '';\n",
              "        dataTable['output_type'] = 'display_data';\n",
              "        await google.colab.output.renderOutput(dataTable, element);\n",
              "        const docLink = document.createElement('div');\n",
              "        docLink.innerHTML = docLinkHtml;\n",
              "        element.appendChild(docLink);\n",
              "      }\n",
              "    </script>\n",
              "  </div>\n",
              "\n",
              "\n",
              "<div id=\"df-a12bff2a-56bf-436b-a76b-e53694b3d28e\">\n",
              "  <button class=\"colab-df-quickchart\" onclick=\"quickchart('df-a12bff2a-56bf-436b-a76b-e53694b3d28e')\"\n",
              "            title=\"Suggest charts\"\n",
              "            style=\"display:none;\">\n",
              "\n",
              "<svg xmlns=\"http://www.w3.org/2000/svg\" height=\"24px\"viewBox=\"0 0 24 24\"\n",
              "     width=\"24px\">\n",
              "    <g>\n",
              "        <path d=\"M19 3H5c-1.1 0-2 .9-2 2v14c0 1.1.9 2 2 2h14c1.1 0 2-.9 2-2V5c0-1.1-.9-2-2-2zM9 17H7v-7h2v7zm4 0h-2V7h2v10zm4 0h-2v-4h2v4z\"/>\n",
              "    </g>\n",
              "</svg>\n",
              "  </button>\n",
              "\n",
              "<style>\n",
              "  .colab-df-quickchart {\n",
              "      --bg-color: #E8F0FE;\n",
              "      --fill-color: #1967D2;\n",
              "      --hover-bg-color: #E2EBFA;\n",
              "      --hover-fill-color: #174EA6;\n",
              "      --disabled-fill-color: #AAA;\n",
              "      --disabled-bg-color: #DDD;\n",
              "  }\n",
              "\n",
              "  [theme=dark] .colab-df-quickchart {\n",
              "      --bg-color: #3B4455;\n",
              "      --fill-color: #D2E3FC;\n",
              "      --hover-bg-color: #434B5C;\n",
              "      --hover-fill-color: #FFFFFF;\n",
              "      --disabled-bg-color: #3B4455;\n",
              "      --disabled-fill-color: #666;\n",
              "  }\n",
              "\n",
              "  .colab-df-quickchart {\n",
              "    background-color: var(--bg-color);\n",
              "    border: none;\n",
              "    border-radius: 50%;\n",
              "    cursor: pointer;\n",
              "    display: none;\n",
              "    fill: var(--fill-color);\n",
              "    height: 32px;\n",
              "    padding: 0;\n",
              "    width: 32px;\n",
              "  }\n",
              "\n",
              "  .colab-df-quickchart:hover {\n",
              "    background-color: var(--hover-bg-color);\n",
              "    box-shadow: 0 1px 2px rgba(60, 64, 67, 0.3), 0 1px 3px 1px rgba(60, 64, 67, 0.15);\n",
              "    fill: var(--button-hover-fill-color);\n",
              "  }\n",
              "\n",
              "  .colab-df-quickchart-complete:disabled,\n",
              "  .colab-df-quickchart-complete:disabled:hover {\n",
              "    background-color: var(--disabled-bg-color);\n",
              "    fill: var(--disabled-fill-color);\n",
              "    box-shadow: none;\n",
              "  }\n",
              "\n",
              "  .colab-df-spinner {\n",
              "    border: 2px solid var(--fill-color);\n",
              "    border-color: transparent;\n",
              "    border-bottom-color: var(--fill-color);\n",
              "    animation:\n",
              "      spin 1s steps(1) infinite;\n",
              "  }\n",
              "\n",
              "  @keyframes spin {\n",
              "    0% {\n",
              "      border-color: transparent;\n",
              "      border-bottom-color: var(--fill-color);\n",
              "      border-left-color: var(--fill-color);\n",
              "    }\n",
              "    20% {\n",
              "      border-color: transparent;\n",
              "      border-left-color: var(--fill-color);\n",
              "      border-top-color: var(--fill-color);\n",
              "    }\n",
              "    30% {\n",
              "      border-color: transparent;\n",
              "      border-left-color: var(--fill-color);\n",
              "      border-top-color: var(--fill-color);\n",
              "      border-right-color: var(--fill-color);\n",
              "    }\n",
              "    40% {\n",
              "      border-color: transparent;\n",
              "      border-right-color: var(--fill-color);\n",
              "      border-top-color: var(--fill-color);\n",
              "    }\n",
              "    60% {\n",
              "      border-color: transparent;\n",
              "      border-right-color: var(--fill-color);\n",
              "    }\n",
              "    80% {\n",
              "      border-color: transparent;\n",
              "      border-right-color: var(--fill-color);\n",
              "      border-bottom-color: var(--fill-color);\n",
              "    }\n",
              "    90% {\n",
              "      border-color: transparent;\n",
              "      border-bottom-color: var(--fill-color);\n",
              "    }\n",
              "  }\n",
              "</style>\n",
              "\n",
              "  <script>\n",
              "    async function quickchart(key) {\n",
              "      const quickchartButtonEl =\n",
              "        document.querySelector('#' + key + ' button');\n",
              "      quickchartButtonEl.disabled = true;  // To prevent multiple clicks.\n",
              "      quickchartButtonEl.classList.add('colab-df-spinner');\n",
              "      try {\n",
              "        const charts = await google.colab.kernel.invokeFunction(\n",
              "            'suggestCharts', [key], {});\n",
              "      } catch (error) {\n",
              "        console.error('Error during call to suggestCharts:', error);\n",
              "      }\n",
              "      quickchartButtonEl.classList.remove('colab-df-spinner');\n",
              "      quickchartButtonEl.classList.add('colab-df-quickchart-complete');\n",
              "    }\n",
              "    (() => {\n",
              "      let quickchartButtonEl =\n",
              "        document.querySelector('#df-a12bff2a-56bf-436b-a76b-e53694b3d28e button');\n",
              "      quickchartButtonEl.style.display =\n",
              "        google.colab.kernel.accessAllowed ? 'block' : 'none';\n",
              "    })();\n",
              "  </script>\n",
              "</div>\n",
              "    </div>\n",
              "  </div>\n"
            ]
          },
          "metadata": {},
          "execution_count": 6
        }
      ]
    },
    {
      "cell_type": "code",
      "source": [
        "X = mydata[[\"age\", \"chol\"]]\n",
        "y = mydata[\"diagnosis\"]"
      ],
      "metadata": {
        "id": "sV8b6uOuDVMr"
      },
      "execution_count": 8,
      "outputs": []
    },
    {
      "cell_type": "code",
      "source": [
        "lr = LogisticRegression()\n",
        "\n",
        "lr_pipeline = Pipeline(\n",
        "    [(\"lr\", lr)]\n",
        ")\n",
        "fitted_pipeline = lr_pipeline.fit(X,y)\n",
        "print(fitted_pipeline.named_steps[\"lr\"].coef_)\n",
        "print(fitted_pipeline.named_steps[\"lr\"].intercept_)"
      ],
      "metadata": {
        "id": "xN01zlAND7vt",
        "colab": {
          "base_uri": "https://localhost:8080/"
        },
        "outputId": "b2f7a90f-aa24-4800-e3a7-41422849cd7d"
      },
      "execution_count": 12,
      "outputs": [
        {
          "output_type": "stream",
          "name": "stdout",
          "text": [
            "[[0.04686331 0.00180124]]\n",
            "[-3.24011226]\n"
          ]
        }
      ]
    },
    {
      "cell_type": "code",
      "source": [
        "intercept = -3.24011226\n",
        "age = 0.04686331\n",
        "cholesterol = 0.00180124\n",
        "odds55 = intercept+age*55\n",
        "print((0.5-1)/cholesterol-odds55/cholesterol)\n",
        "print((0.9-1)/cholesterol-odds55/cholesterol)\n"
      ],
      "metadata": {
        "colab": {
          "base_uri": "https://localhost:8080/"
        },
        "id": "cmmALh2ZHPTC",
        "outputId": "427098c0-a271-42ae-d656-531072d52b60"
      },
      "execution_count": 19,
      "outputs": [
        {
          "output_type": "stream",
          "name": "stdout",
          "text": [
            "90.28791832293314\n",
            "312.357159512336\n"
          ]
        }
      ]
    },
    {
      "cell_type": "markdown",
      "source": [
        "## 2. Linear Discriminant Analysis\n",
        "\n",
        "Fit an LDA model using only `age` and `chol` (cholesterol)  as predictors.\n",
        "\n",
        "For a 55 year old, how high would their cholesterol need to be for the doctors to predict heart disease is present?"
      ],
      "metadata": {
        "id": "t6Gfcspn9EYy"
      }
    },
    {
      "cell_type": "code",
      "source": [
        "lda = LinearDiscriminantAnalysis()\n",
        "\n",
        "lda_pipeline = Pipeline(\n",
        "    [(\"lda\", lda)]\n",
        ")\n",
        "fitted_pipeline = lda_pipeline.fit(X,y)\n",
        "print(fitted_pipeline.named_steps[\"lda\"].coef_)\n",
        "print(fitted_pipeline.named_steps[\"lda\"].intercept_)"
      ],
      "metadata": {
        "id": "xEE5FPAs9S29",
        "colab": {
          "base_uri": "https://localhost:8080/"
        },
        "outputId": "4675b511-87ac-493d-d366-e6aadd1a616e"
      },
      "execution_count": 22,
      "outputs": [
        {
          "output_type": "stream",
          "name": "stdout",
          "text": [
            "[[0.04655744 0.00178967]]\n",
            "[-3.21967766]\n"
          ]
        }
      ]
    },
    {
      "cell_type": "code",
      "source": [
        "intercept = -3.21967766\n",
        "age = 0.04655744\n",
        "cholesterol = 0.00178967\n",
        "odds55 = intercept+age*55\n",
        "print((0.5-1)/cholesterol-odds55/cholesterol)\n",
        "print((0.9-1)/cholesterol-odds55/cholesterol)"
      ],
      "metadata": {
        "colab": {
          "base_uri": "https://localhost:8080/"
        },
        "id": "KwUx4YbpTh6X",
        "outputId": "254812a7-1b72-4215-a151-b77c167a07ee"
      },
      "execution_count": 23,
      "outputs": [
        {
          "output_type": "stream",
          "name": "stdout",
          "text": [
            "88.85350930618489\n",
            "312.3584012695078\n"
          ]
        }
      ]
    },
    {
      "cell_type": "markdown",
      "source": [
        "## 3. Support Vector Classifier\n",
        "\n",
        "Fit an SVC model using only `age` and `chol` as predictors.  Don't forget to tune the regularization parameter.\n",
        "\n",
        "For a 55 year old, how high would their cholesterol need to be for the doctors to predict heart disease is present?"
      ],
      "metadata": {
        "id": "RdRR4Evq9THQ"
      }
    },
    {
      "cell_type": "code",
      "source": [
        "svc = SVC(kernel=\"linear\")\n",
        "\n",
        "svc_pipeline = Pipeline(\n",
        "    [(\"svc\", svc)]\n",
        ")\n",
        "fitted_pipeline = svc_pipeline.fit(X,y)\n",
        "print(fitted_pipeline.named_steps[\"svc\"].coef_)\n",
        "print(fitted_pipeline.named_steps[\"svc\"].intercept_)"
      ],
      "metadata": {
        "id": "QM0zJ8JN9XS9",
        "colab": {
          "base_uri": "https://localhost:8080/"
        },
        "outputId": "cef8afe8-58a2-42db-b9e9-07cd34f2e886"
      },
      "execution_count": 24,
      "outputs": [
        {
          "output_type": "stream",
          "name": "stdout",
          "text": [
            "[[0.06439772 0.00365896]]\n",
            "[-4.68603406]\n"
          ]
        }
      ]
    },
    {
      "cell_type": "code",
      "source": [
        "intercept = -4.68603406\n",
        "age = 0.06439772\n",
        "cholesterol = 0.00365896\n",
        "odds55 = intercept+age*55\n",
        "print((0.5-1)/cholesterol-odds55/cholesterol)\n",
        "print((0.9-1)/cholesterol-odds55/cholesterol)"
      ],
      "metadata": {
        "colab": {
          "base_uri": "https://localhost:8080/"
        },
        "id": "f9In4ng8TvRE",
        "outputId": "354293b2-6d22-487d-f2d7-1503c88c5d4d"
      },
      "execution_count": 25,
      "outputs": [
        {
          "output_type": "stream",
          "name": "stdout",
          "text": [
            "176.04987756083685\n",
            "285.3705588473226\n"
          ]
        }
      ]
    },
    {
      "cell_type": "markdown",
      "source": [
        "## 4. Comparing Decision Boundaries\n",
        "\n",
        "Make a scatterplot of `age` and `chol`, coloring the points by their true disease outcome.  Add a line to the plot representing the **linear separator** (aka **decision boundary**) for each of the three models above."
      ],
      "metadata": {
        "id": "badaMBzw-MsM"
      }
    },
    {
      "cell_type": "code",
      "source": [
        "label_encoder = LabelEncoder()\n",
        "y_encoded = label_encoder.fit_transform(y)\n",
        "lr = LogisticRegression()\n",
        "lr_pipeline = Pipeline([(\"lr\", lr)])\n",
        "fitted_pipeline_lr = lr_pipeline.fit(X, y_encoded)\n",
        "lda = LinearDiscriminantAnalysis()\n",
        "lda_pipeline = Pipeline([(\"lda\", lda)])\n",
        "fitted_pipeline_lda = lda_pipeline.fit(X, y_encoded)\n",
        "svc = SVC(kernel=\"linear\")\n",
        "svc_pipeline = Pipeline([(\"svc\", svc)])\n",
        "fitted_pipeline_svc = svc_pipeline.fit(X, y_encoded)\n",
        "\n",
        "plot_data = pd.DataFrame({\"age\": X[\"age\"], \"chol\": X[\"chol\"], \"diagnosis\": y, \"lr_pred\": fitted_pipeline_lr.predict(X),\n",
        "                          \"lda_pred\": fitted_pipeline_lda.predict(X), \"svc_pred\": fitted_pipeline_svc.predict(X)})\n",
        "p = (ggplot(plot_data, aes(x='age', y='chol', color='diagnosis')) +\n",
        "     geom_point() +\n",
        "     geom_abline(intercept=fitted_pipeline_lr.named_steps[\"lr\"].intercept_[0],\n",
        "                 slope=fitted_pipeline_lr.named_steps[\"lr\"].coef_[0, 0],\n",
        "                 linetype=\"dashed\", color=\"blue\") +\n",
        "     geom_abline(intercept=fitted_pipeline_lda.named_steps[\"lda\"].intercept_[0],\n",
        "                 slope=fitted_pipeline_lda.named_steps[\"lda\"].coef_[0, 0],\n",
        "                 linetype=\"dashed\", color=\"green\") +\n",
        "     geom_abline(intercept=fitted_pipeline_svc.named_steps[\"svc\"].intercept_[0],\n",
        "                 slope=fitted_pipeline_svc.named_steps[\"svc\"].coef_[0, 0],\n",
        "                 linetype=\"dashed\", color=\"red\") +\n",
        "     scale_color_manual(values=[\"red\", \"green\"], labels=[\"No Heart Disease\", \"Heart Disease\"]) +\n",
        "     theme_minimal())\n",
        "print(p)"
      ],
      "metadata": {
        "id": "vVZJwn9s-enf",
        "colab": {
          "base_uri": "https://localhost:8080/",
          "height": 514
        },
        "outputId": "15051c06-12af-4b05-eaf3-ce400c52996b"
      },
      "execution_count": 31,
      "outputs": [
        {
          "output_type": "display_data",
          "data": {
            "text/plain": [
              "<Figure size 640x480 with 1 Axes>"
            ],
            "image/png": "[encoded data removed]"
          },
          "metadata": {
            "image/png": {
              "width": 640,
              "height": 480
            },
            "needs_background": "light"
          }
        },
        {
          "output_type": "stream",
          "name": "stdout",
          "text": [
            "\n"
          ]
        }
      ]
    }
  ]
}