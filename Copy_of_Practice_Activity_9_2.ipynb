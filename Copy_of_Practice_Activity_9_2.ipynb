{
  "nbformat": 4,
  "nbformat_minor": 0,
  "metadata": {
    "colab": {
      "provenance": []
    },
    "kernelspec": {
      "name": "python3",
      "display_name": "Python 3"
    },
    "language_info": {
      "name": "python"
    }
  },
  "cells": [
    {
      "cell_type": "markdown",
      "source": [
        "\n",
        "Our dataset consists of clinical data from patients who entered the hospital complaining of chest pain (\"angina\") during exercise.  The information collected includes:\n",
        "\n",
        "* `age` : Age of the patient\n",
        "\n",
        "* `sex` : Sex of the patient\n",
        "\n",
        "* `cp` : Chest Pain type\n",
        "\n",
        "    + Value 0: asymptomatic\n",
        "    + Value 1: typical angina\n",
        "    + Value 2: atypical angina\n",
        "    + Value 3: non-anginal pain\n",
        "   \n",
        "    \n",
        "* `trtbps` : resting blood pressure (in mm Hg)\n",
        "\n",
        "* `chol` : cholesterol in mg/dl fetched via BMI sensor\n",
        "\n",
        "* `restecg` : resting electrocardiographic results\n",
        "\n",
        "    + Value 0: normal\n",
        "    + Value 1: having ST-T wave abnormality (T wave inversions and/or ST elevation or depression of > 0.05 mV)\n",
        "    + Value 2: showing probable or definite left ventricular hypertrophy by Estes' criteria\n",
        "\n",
        "* `thalach` : maximum heart rate achieved during exercise\n",
        "\n",
        "* `output` : the doctor's diagnosis of whether the patient is at risk for a heart attack\n",
        "    + 0 = not at risk of heart attack\n",
        "    + 1 = at risk of heart attack"
      ],
      "metadata": {
        "id": "P_N9XP2-04VH"
      }
    },
    {
      "cell_type": "code",
      "source": [
        "pip install sklearn"
      ],
      "metadata": {
        "id": "tZmjmGGQ1CaN",
        "colab": {
          "base_uri": "https://localhost:8080/"
        },
        "outputId": "aa563f5a-5081-4da8-9dcd-ab7f33480000"
      },
      "execution_count": null,
      "outputs": [
        {
          "output_type": "stream",
          "name": "stdout",
          "text": [
            "Collecting sklearn\n",
            "  Downloading sklearn-0.0.post11.tar.gz (3.6 kB)\n",
            "  Preparing metadata (setup.py) ... \u001b[?25l\u001b[?25hdone\n",
            "Building wheels for collected packages: sklearn\n",
            "  Building wheel for sklearn (setup.py) ... \u001b[?25l\u001b[?25hdone\n",
            "  Created wheel for sklearn: filename=sklearn-0.0.post11-py3-none-any.whl size=2959 sha256=493b3ded30c497b1966d51360f65927dc0c1b90ca14ceac6ad7e6e54c35acad7\n",
            "  Stored in directory: /root/.cache/pip/wheels/aa/9c/60/f67813603a52fc35057868f1aba0003cc75b72583dcaa2c341\n",
            "Successfully built sklearn\n",
            "Installing collected packages: sklearn\n",
            "Successfully installed sklearn-0.0.post11\n"
          ]
        }
      ]
    },
    {
      "cell_type": "code",
      "source": [
        "import pandas as pd\n",
        "import numpy as np\n",
        "from sklearn.pipeline import Pipeline\n",
        "from sklearn.neighbors import KNeighborsClassifier\n",
        "from sklearn.tree import DecisionTreeClassifier, plot_tree\n",
        "from sklearn.linear_model import LogisticRegression\n",
        "from sklearn.compose import make_column_selector, ColumnTransformer\n",
        "from sklearn.model_selection import cross_val_score, KFold, GridSearchCV\n",
        "from sklearn.preprocessing import StandardScaler, OneHotEncoder\n",
        "import matplotlib.pyplot as plt"
      ],
      "metadata": {
        "id": "a85VXea7UAb3"
      },
      "execution_count": null,
      "outputs": []
    },
    {
      "cell_type": "code",
      "execution_count": null,
      "metadata": {
        "id": "ghXbwhv600-S"
      },
      "outputs": [],
      "source": [
        "ha = pd.read_csv(\"https://www.dropbox.com/s/aohbr6yb9ifmc8w/heart_attack.csv?dl=1\")"
      ]
    },
    {
      "cell_type": "markdown",
      "source": [
        "## Q1: Natural Multiclass Models\n",
        "\n",
        "Fit a multiclass KNN, Decision Tree, and LDA for the heart disease data; this time predicting the type of chest pain (categories 0 - 3) that a patient experiences.  For the decision tree, plot the fitted tree, and interpret the first couple splits.\n"
      ],
      "metadata": {
        "id": "OCX180v41bhe"
      }
    },
    {
      "cell_type": "code",
      "source": [
        "ha.info()\n",
        "ha.head()"
      ],
      "metadata": {
        "id": "WJsMBCZh1glq",
        "colab": {
          "base_uri": "https://localhost:8080/",
          "height": 459
        },
        "outputId": "29381bc0-885a-4408-e17d-cefcf9d61277"
      },
      "execution_count": null,
      "outputs": [
        {
          "output_type": "stream",
          "name": "stdout",
          "text": [
            "<class 'pandas.core.frame.DataFrame'>\n",
            "RangeIndex: 273 entries, 0 to 272\n",
            "Data columns (total 8 columns):\n",
            " #   Column   Non-Null Count  Dtype\n",
            "---  ------   --------------  -----\n",
            " 0   age      273 non-null    int64\n",
            " 1   sex      273 non-null    int64\n",
            " 2   cp       273 non-null    int64\n",
            " 3   trtbps   273 non-null    int64\n",
            " 4   chol     273 non-null    int64\n",
            " 5   restecg  273 non-null    int64\n",
            " 6   thalach  273 non-null    int64\n",
            " 7   output   273 non-null    int64\n",
            "dtypes: int64(8)\n",
            "memory usage: 17.2 KB\n"
          ]
        },
        {
          "output_type": "execute_result",
          "data": {
            "text/plain": [
              "   age  sex  cp  trtbps  chol  restecg  thalach  output\n",
              "0   63    1   3     145   233        0      150       1\n",
              "1   37    1   2     130   250        1      187       1\n",
              "2   56    1   1     120   236        1      178       1\n",
              "3   57    0   0     120   354        1      163       1\n",
              "4   57    1   0     140   192        1      148       1"
            ],
            "text/html": [
              "\n",
              "  <div id=\"df-5207f8cc-3857-4a3d-94cc-1af96d35d5e7\" class=\"colab-df-container\">\n",
              "    <div>\n",
              "<style scoped>\n",
              "    .dataframe tbody tr th:only-of-type {\n",
              "        vertical-align: middle;\n",
              "    }\n",
              "\n",
              "    .dataframe tbody tr th {\n",
              "        vertical-align: top;\n",
              "    }\n",
              "\n",
              "    .dataframe thead th {\n",
              "        text-align: right;\n",
              "    }\n",
              "</style>\n",
              "<table border=\"1\" class=\"dataframe\">\n",
              "  <thead>\n",
              "    <tr style=\"text-align: right;\">\n",
              "      <th></th>\n",
              "      <th>age</th>\n",
              "      <th>sex</th>\n",
              "      <th>cp</th>\n",
              "      <th>trtbps</th>\n",
              "      <th>chol</th>\n",
              "      <th>restecg</th>\n",
              "      <th>thalach</th>\n",
              "      <th>output</th>\n",
              "    </tr>\n",
              "  </thead>\n",
              "  <tbody>\n",
              "    <tr>\n",
              "      <th>0</th>\n",
              "      <td>63</td>\n",
              "      <td>1</td>\n",
              "      <td>3</td>\n",
              "      <td>145</td>\n",
              "      <td>233</td>\n",
              "      <td>0</td>\n",
              "      <td>150</td>\n",
              "      <td>1</td>\n",
              "    </tr>\n",
              "    <tr>\n",
              "      <th>1</th>\n",
              "      <td>37</td>\n",
              "      <td>1</td>\n",
              "      <td>2</td>\n",
              "      <td>130</td>\n",
              "      <td>250</td>\n",
              "      <td>1</td>\n",
              "      <td>187</td>\n",
              "      <td>1</td>\n",
              "    </tr>\n",
              "    <tr>\n",
              "      <th>2</th>\n",
              "      <td>56</td>\n",
              "      <td>1</td>\n",
              "      <td>1</td>\n",
              "      <td>120</td>\n",
              "      <td>236</td>\n",
              "      <td>1</td>\n",
              "      <td>178</td>\n",
              "      <td>1</td>\n",
              "    </tr>\n",
              "    <tr>\n",
              "      <th>3</th>\n",
              "      <td>57</td>\n",
              "      <td>0</td>\n",
              "      <td>0</td>\n",
              "      <td>120</td>\n",
              "      <td>354</td>\n",
              "      <td>1</td>\n",
              "      <td>163</td>\n",
              "      <td>1</td>\n",
              "    </tr>\n",
              "    <tr>\n",
              "      <th>4</th>\n",
              "      <td>57</td>\n",
              "      <td>1</td>\n",
              "      <td>0</td>\n",
              "      <td>140</td>\n",
              "      <td>192</td>\n",
              "      <td>1</td>\n",
              "      <td>148</td>\n",
              "      <td>1</td>\n",
              "    </tr>\n",
              "  </tbody>\n",
              "</table>\n",
              "</div>\n",
              "    <div class=\"colab-df-buttons\">\n",
              "\n",
              "  <div class=\"colab-df-container\">\n",
              "    <button class=\"colab-df-convert\" onclick=\"convertToInteractive('df-5207f8cc-3857-4a3d-94cc-1af96d35d5e7')\"\n",
              "            title=\"Convert this dataframe to an interactive table.\"\n",
              "            style=\"display:none;\">\n",
              "\n",
              "  <svg xmlns=\"http://www.w3.org/2000/svg\" height=\"24px\" viewBox=\"0 -960 960 960\">\n",
              "    <path d=\"M120-120v-720h720v720H120Zm60-500h600v-160H180v160Zm220 220h160v-160H400v160Zm0 220h160v-160H400v160ZM180-400h160v-160H180v160Zm440 0h160v-160H620v160ZM180-180h160v-160H180v160Zm440 0h160v-160H620v160Z\"/>\n",
              "  </svg>\n",
              "    </button>\n",
              "\n",
              "  <style>\n",
              "    .colab-df-container {\n",
              "      display:flex;\n",
              "      gap: 12px;\n",
              "    }\n",
              "\n",
              "    .colab-df-convert {\n",
              "      background-color: #E8F0FE;\n",
              "      border: none;\n",
              "      border-radius: 50%;\n",
              "      cursor: pointer;\n",
              "      display: none;\n",
              "      fill: #1967D2;\n",
              "      height: 32px;\n",
              "      padding: 0 0 0 0;\n",
              "      width: 32px;\n",
              "    }\n",
              "\n",
              "    .colab-df-convert:hover {\n",
              "      background-color: #E2EBFA;\n",
              "      box-shadow: 0px 1px 2px rgba(60, 64, 67, 0.3), 0px 1px 3px 1px rgba(60, 64, 67, 0.15);\n",
              "      fill: #174EA6;\n",
              "    }\n",
              "\n",
              "    .colab-df-buttons div {\n",
              "      margin-bottom: 4px;\n",
              "    }\n",
              "\n",
              "    [theme=dark] .colab-df-convert {\n",
              "      background-color: #3B4455;\n",
              "      fill: #D2E3FC;\n",
              "    }\n",
              "\n",
              "    [theme=dark] .colab-df-convert:hover {\n",
              "      background-color: #434B5C;\n",
              "      box-shadow: 0px 1px 3px 1px rgba(0, 0, 0, 0.15);\n",
              "      filter: drop-shadow(0px 1px 2px rgba(0, 0, 0, 0.3));\n",
              "      fill: #FFFFFF;\n",
              "    }\n",
              "  </style>\n",
              "\n",
              "    <script>\n",
              "      const buttonEl =\n",
              "        document.querySelector('#df-5207f8cc-3857-4a3d-94cc-1af96d35d5e7 button.colab-df-convert');\n",
              "      buttonEl.style.display =\n",
              "        google.colab.kernel.accessAllowed ? 'block' : 'none';\n",
              "\n",
              "      async function convertToInteractive(key) {\n",
              "        const element = document.querySelector('#df-5207f8cc-3857-4a3d-94cc-1af96d35d5e7');\n",
              "        const dataTable =\n",
              "          await google.colab.kernel.invokeFunction('convertToInteractive',\n",
              "                                                    [key], {});\n",
              "        if (!dataTable) return;\n",
              "\n",
              "        const docLinkHtml = 'Like what you see? Visit the ' +\n",
              "          '<a target=\"_blank\" href=https://colab.research.google.com/notebooks/data_table.ipynb>data table notebook</a>'\n",
              "          + ' to learn more about interactive tables.';\n",
              "        element.innerHTML = '';\n",
              "        dataTable['output_type'] = 'display_data';\n",
              "        await google.colab.output.renderOutput(dataTable, element);\n",
              "        const docLink = document.createElement('div');\n",
              "        docLink.innerHTML = docLinkHtml;\n",
              "        element.appendChild(docLink);\n",
              "      }\n",
              "    </script>\n",
              "  </div>\n",
              "\n",
              "\n",
              "<div id=\"df-3aeb8d78-259f-4b92-856c-5be7dc9d906d\">\n",
              "  <button class=\"colab-df-quickchart\" onclick=\"quickchart('df-3aeb8d78-259f-4b92-856c-5be7dc9d906d')\"\n",
              "            title=\"Suggest charts\"\n",
              "            style=\"display:none;\">\n",
              "\n",
              "<svg xmlns=\"http://www.w3.org/2000/svg\" height=\"24px\"viewBox=\"0 0 24 24\"\n",
              "     width=\"24px\">\n",
              "    <g>\n",
              "        <path d=\"M19 3H5c-1.1 0-2 .9-2 2v14c0 1.1.9 2 2 2h14c1.1 0 2-.9 2-2V5c0-1.1-.9-2-2-2zM9 17H7v-7h2v7zm4 0h-2V7h2v10zm4 0h-2v-4h2v4z\"/>\n",
              "    </g>\n",
              "</svg>\n",
              "  </button>\n",
              "\n",
              "<style>\n",
              "  .colab-df-quickchart {\n",
              "      --bg-color: #E8F0FE;\n",
              "      --fill-color: #1967D2;\n",
              "      --hover-bg-color: #E2EBFA;\n",
              "      --hover-fill-color: #174EA6;\n",
              "      --disabled-fill-color: #AAA;\n",
              "      --disabled-bg-color: #DDD;\n",
              "  }\n",
              "\n",
              "  [theme=dark] .colab-df-quickchart {\n",
              "      --bg-color: #3B4455;\n",
              "      --fill-color: #D2E3FC;\n",
              "      --hover-bg-color: #434B5C;\n",
              "      --hover-fill-color: #FFFFFF;\n",
              "      --disabled-bg-color: #3B4455;\n",
              "      --disabled-fill-color: #666;\n",
              "  }\n",
              "\n",
              "  .colab-df-quickchart {\n",
              "    background-color: var(--bg-color);\n",
              "    border: none;\n",
              "    border-radius: 50%;\n",
              "    cursor: pointer;\n",
              "    display: none;\n",
              "    fill: var(--fill-color);\n",
              "    height: 32px;\n",
              "    padding: 0;\n",
              "    width: 32px;\n",
              "  }\n",
              "\n",
              "  .colab-df-quickchart:hover {\n",
              "    background-color: var(--hover-bg-color);\n",
              "    box-shadow: 0 1px 2px rgba(60, 64, 67, 0.3), 0 1px 3px 1px rgba(60, 64, 67, 0.15);\n",
              "    fill: var(--button-hover-fill-color);\n",
              "  }\n",
              "\n",
              "  .colab-df-quickchart-complete:disabled,\n",
              "  .colab-df-quickchart-complete:disabled:hover {\n",
              "    background-color: var(--disabled-bg-color);\n",
              "    fill: var(--disabled-fill-color);\n",
              "    box-shadow: none;\n",
              "  }\n",
              "\n",
              "  .colab-df-spinner {\n",
              "    border: 2px solid var(--fill-color);\n",
              "    border-color: transparent;\n",
              "    border-bottom-color: var(--fill-color);\n",
              "    animation:\n",
              "      spin 1s steps(1) infinite;\n",
              "  }\n",
              "\n",
              "  @keyframes spin {\n",
              "    0% {\n",
              "      border-color: transparent;\n",
              "      border-bottom-color: var(--fill-color);\n",
              "      border-left-color: var(--fill-color);\n",
              "    }\n",
              "    20% {\n",
              "      border-color: transparent;\n",
              "      border-left-color: var(--fill-color);\n",
              "      border-top-color: var(--fill-color);\n",
              "    }\n",
              "    30% {\n",
              "      border-color: transparent;\n",
              "      border-left-color: var(--fill-color);\n",
              "      border-top-color: var(--fill-color);\n",
              "      border-right-color: var(--fill-color);\n",
              "    }\n",
              "    40% {\n",
              "      border-color: transparent;\n",
              "      border-right-color: var(--fill-color);\n",
              "      border-top-color: var(--fill-color);\n",
              "    }\n",
              "    60% {\n",
              "      border-color: transparent;\n",
              "      border-right-color: var(--fill-color);\n",
              "    }\n",
              "    80% {\n",
              "      border-color: transparent;\n",
              "      border-right-color: var(--fill-color);\n",
              "      border-bottom-color: var(--fill-color);\n",
              "    }\n",
              "    90% {\n",
              "      border-color: transparent;\n",
              "      border-bottom-color: var(--fill-color);\n",
              "    }\n",
              "  }\n",
              "</style>\n",
              "\n",
              "  <script>\n",
              "    async function quickchart(key) {\n",
              "      const quickchartButtonEl =\n",
              "        document.querySelector('#' + key + ' button');\n",
              "      quickchartButtonEl.disabled = true;  // To prevent multiple clicks.\n",
              "      quickchartButtonEl.classList.add('colab-df-spinner');\n",
              "      try {\n",
              "        const charts = await google.colab.kernel.invokeFunction(\n",
              "            'suggestCharts', [key], {});\n",
              "      } catch (error) {\n",
              "        console.error('Error during call to suggestCharts:', error);\n",
              "      }\n",
              "      quickchartButtonEl.classList.remove('colab-df-spinner');\n",
              "      quickchartButtonEl.classList.add('colab-df-quickchart-complete');\n",
              "    }\n",
              "    (() => {\n",
              "      let quickchartButtonEl =\n",
              "        document.querySelector('#df-3aeb8d78-259f-4b92-856c-5be7dc9d906d button');\n",
              "      quickchartButtonEl.style.display =\n",
              "        google.colab.kernel.accessAllowed ? 'block' : 'none';\n",
              "    })();\n",
              "  </script>\n",
              "</div>\n",
              "    </div>\n",
              "  </div>\n"
            ]
          },
          "metadata": {},
          "execution_count": 5
        }
      ]
    },
    {
      "cell_type": "code",
      "source": [
        "X = ha.drop([\"cp\"], axis=1)\n",
        "y = ha[\"cp\"]"
      ],
      "metadata": {
        "id": "f9cb6ferUMdG"
      },
      "execution_count": null,
      "outputs": []
    },
    {
      "cell_type": "code",
      "source": [
        "\n",
        "ct = ColumnTransformer(\n",
        "    transformers=[\n",
        "      (\"standardize\", StandardScaler(), [\"age\", \"trtbps\", \"chol\", \"thalach\"])\n",
        "    ],\n",
        "    remainder='passthrough'\n",
        ")\n",
        "\n",
        "knn1 = KNeighborsClassifier(n_neighbors=20)\n",
        "knn_pipeline = Pipeline([\n",
        "    (\"preprocess\", ct),\n",
        "    (\"knn\", knn1)\n",
        "])\n",
        "\n",
        "degrees = {'knn__n_neighbors': np.arange(5,100)}\n",
        "gscv = GridSearchCV(knn_pipeline, degrees, cv = 5, scoring='accuracy')\n",
        "gscv_fitted = gscv.fit(X, y)\n",
        "best_accuracy = pd.DataFrame(data = {\"kNN_k\": np.arange(5,100), \"accuracy\": gscv_fitted.cv_results_['mean_test_score']}).sort_values(by='accuracy', ascending = False)\n",
        "best_accuracy"
      ],
      "metadata": {
        "colab": {
          "base_uri": "https://localhost:8080/",
          "height": 419
        },
        "id": "5hjcvtw5VGTJ",
        "outputId": "6058b532-2226-4024-978d-c090113926ea"
      },
      "execution_count": null,
      "outputs": [
        {
          "output_type": "execute_result",
          "data": {
            "text/plain": [
              "    kNN_k  accuracy\n",
              "15     20  0.549495\n",
              "31     36  0.545926\n",
              "14     19  0.542020\n",
              "30     35  0.538586\n",
              "16     21  0.538451\n",
              "..    ...       ...\n",
              "91     96  0.498249\n",
              "1       6  0.494747\n",
              "65     70  0.494680\n",
              "64     69  0.494680\n",
              "0       5  0.465522\n",
              "\n",
              "[95 rows x 2 columns]"
            ],
            "text/html": [
              "\n",
              "  <div id=\"df-1fae894e-0b66-44fd-bb2e-33345b75ff67\" class=\"colab-df-container\">\n",
              "    <div>\n",
              "<style scoped>\n",
              "    .dataframe tbody tr th:only-of-type {\n",
              "        vertical-align: middle;\n",
              "    }\n",
              "\n",
              "    .dataframe tbody tr th {\n",
              "        vertical-align: top;\n",
              "    }\n",
              "\n",
              "    .dataframe thead th {\n",
              "        text-align: right;\n",
              "    }\n",
              "</style>\n",
              "<table border=\"1\" class=\"dataframe\">\n",
              "  <thead>\n",
              "    <tr style=\"text-align: right;\">\n",
              "      <th></th>\n",
              "      <th>kNN_k</th>\n",
              "      <th>accuracy</th>\n",
              "    </tr>\n",
              "  </thead>\n",
              "  <tbody>\n",
              "    <tr>\n",
              "      <th>15</th>\n",
              "      <td>20</td>\n",
              "      <td>0.549495</td>\n",
              "    </tr>\n",
              "    <tr>\n",
              "      <th>31</th>\n",
              "      <td>36</td>\n",
              "      <td>0.545926</td>\n",
              "    </tr>\n",
              "    <tr>\n",
              "      <th>14</th>\n",
              "      <td>19</td>\n",
              "      <td>0.542020</td>\n",
              "    </tr>\n",
              "    <tr>\n",
              "      <th>30</th>\n",
              "      <td>35</td>\n",
              "      <td>0.538586</td>\n",
              "    </tr>\n",
              "    <tr>\n",
              "      <th>16</th>\n",
              "      <td>21</td>\n",
              "      <td>0.538451</td>\n",
              "    </tr>\n",
              "    <tr>\n",
              "      <th>...</th>\n",
              "      <td>...</td>\n",
              "      <td>...</td>\n",
              "    </tr>\n",
              "    <tr>\n",
              "      <th>91</th>\n",
              "      <td>96</td>\n",
              "      <td>0.498249</td>\n",
              "    </tr>\n",
              "    <tr>\n",
              "      <th>1</th>\n",
              "      <td>6</td>\n",
              "      <td>0.494747</td>\n",
              "    </tr>\n",
              "    <tr>\n",
              "      <th>65</th>\n",
              "      <td>70</td>\n",
              "      <td>0.494680</td>\n",
              "    </tr>\n",
              "    <tr>\n",
              "      <th>64</th>\n",
              "      <td>69</td>\n",
              "      <td>0.494680</td>\n",
              "    </tr>\n",
              "    <tr>\n",
              "      <th>0</th>\n",
              "      <td>5</td>\n",
              "      <td>0.465522</td>\n",
              "    </tr>\n",
              "  </tbody>\n",
              "</table>\n",
              "<p>95 rows × 2 columns</p>\n",
              "</div>\n",
              "    <div class=\"colab-df-buttons\">\n",
              "\n",
              "  <div class=\"colab-df-container\">\n",
              "    <button class=\"colab-df-convert\" onclick=\"convertToInteractive('df-1fae894e-0b66-44fd-bb2e-33345b75ff67')\"\n",
              "            title=\"Convert this dataframe to an interactive table.\"\n",
              "            style=\"display:none;\">\n",
              "\n",
              "  <svg xmlns=\"http://www.w3.org/2000/svg\" height=\"24px\" viewBox=\"0 -960 960 960\">\n",
              "    <path d=\"M120-120v-720h720v720H120Zm60-500h600v-160H180v160Zm220 220h160v-160H400v160Zm0 220h160v-160H400v160ZM180-400h160v-160H180v160Zm440 0h160v-160H620v160ZM180-180h160v-160H180v160Zm440 0h160v-160H620v160Z\"/>\n",
              "  </svg>\n",
              "    </button>\n",
              "\n",
              "  <style>\n",
              "    .colab-df-container {\n",
              "      display:flex;\n",
              "      gap: 12px;\n",
              "    }\n",
              "\n",
              "    .colab-df-convert {\n",
              "      background-color: #E8F0FE;\n",
              "      border: none;\n",
              "      border-radius: 50%;\n",
              "      cursor: pointer;\n",
              "      display: none;\n",
              "      fill: #1967D2;\n",
              "      height: 32px;\n",
              "      padding: 0 0 0 0;\n",
              "      width: 32px;\n",
              "    }\n",
              "\n",
              "    .colab-df-convert:hover {\n",
              "      background-color: #E2EBFA;\n",
              "      box-shadow: 0px 1px 2px rgba(60, 64, 67, 0.3), 0px 1px 3px 1px rgba(60, 64, 67, 0.15);\n",
              "      fill: #174EA6;\n",
              "    }\n",
              "\n",
              "    .colab-df-buttons div {\n",
              "      margin-bottom: 4px;\n",
              "    }\n",
              "\n",
              "    [theme=dark] .colab-df-convert {\n",
              "      background-color: #3B4455;\n",
              "      fill: #D2E3FC;\n",
              "    }\n",
              "\n",
              "    [theme=dark] .colab-df-convert:hover {\n",
              "      background-color: #434B5C;\n",
              "      box-shadow: 0px 1px 3px 1px rgba(0, 0, 0, 0.15);\n",
              "      filter: drop-shadow(0px 1px 2px rgba(0, 0, 0, 0.3));\n",
              "      fill: #FFFFFF;\n",
              "    }\n",
              "  </style>\n",
              "\n",
              "    <script>\n",
              "      const buttonEl =\n",
              "        document.querySelector('#df-1fae894e-0b66-44fd-bb2e-33345b75ff67 button.colab-df-convert');\n",
              "      buttonEl.style.display =\n",
              "        google.colab.kernel.accessAllowed ? 'block' : 'none';\n",
              "\n",
              "      async function convertToInteractive(key) {\n",
              "        const element = document.querySelector('#df-1fae894e-0b66-44fd-bb2e-33345b75ff67');\n",
              "        const dataTable =\n",
              "          await google.colab.kernel.invokeFunction('convertToInteractive',\n",
              "                                                    [key], {});\n",
              "        if (!dataTable) return;\n",
              "\n",
              "        const docLinkHtml = 'Like what you see? Visit the ' +\n",
              "          '<a target=\"_blank\" href=https://colab.research.google.com/notebooks/data_table.ipynb>data table notebook</a>'\n",
              "          + ' to learn more about interactive tables.';\n",
              "        element.innerHTML = '';\n",
              "        dataTable['output_type'] = 'display_data';\n",
              "        await google.colab.output.renderOutput(dataTable, element);\n",
              "        const docLink = document.createElement('div');\n",
              "        docLink.innerHTML = docLinkHtml;\n",
              "        element.appendChild(docLink);\n",
              "      }\n",
              "    </script>\n",
              "  </div>\n",
              "\n",
              "\n",
              "<div id=\"df-715a394d-cd89-4c8a-a4a2-2374e4bb54f9\">\n",
              "  <button class=\"colab-df-quickchart\" onclick=\"quickchart('df-715a394d-cd89-4c8a-a4a2-2374e4bb54f9')\"\n",
              "            title=\"Suggest charts\"\n",
              "            style=\"display:none;\">\n",
              "\n",
              "<svg xmlns=\"http://www.w3.org/2000/svg\" height=\"24px\"viewBox=\"0 0 24 24\"\n",
              "     width=\"24px\">\n",
              "    <g>\n",
              "        <path d=\"M19 3H5c-1.1 0-2 .9-2 2v14c0 1.1.9 2 2 2h14c1.1 0 2-.9 2-2V5c0-1.1-.9-2-2-2zM9 17H7v-7h2v7zm4 0h-2V7h2v10zm4 0h-2v-4h2v4z\"/>\n",
              "    </g>\n",
              "</svg>\n",
              "  </button>\n",
              "\n",
              "<style>\n",
              "  .colab-df-quickchart {\n",
              "      --bg-color: #E8F0FE;\n",
              "      --fill-color: #1967D2;\n",
              "      --hover-bg-color: #E2EBFA;\n",
              "      --hover-fill-color: #174EA6;\n",
              "      --disabled-fill-color: #AAA;\n",
              "      --disabled-bg-color: #DDD;\n",
              "  }\n",
              "\n",
              "  [theme=dark] .colab-df-quickchart {\n",
              "      --bg-color: #3B4455;\n",
              "      --fill-color: #D2E3FC;\n",
              "      --hover-bg-color: #434B5C;\n",
              "      --hover-fill-color: #FFFFFF;\n",
              "      --disabled-bg-color: #3B4455;\n",
              "      --disabled-fill-color: #666;\n",
              "  }\n",
              "\n",
              "  .colab-df-quickchart {\n",
              "    background-color: var(--bg-color);\n",
              "    border: none;\n",
              "    border-radius: 50%;\n",
              "    cursor: pointer;\n",
              "    display: none;\n",
              "    fill: var(--fill-color);\n",
              "    height: 32px;\n",
              "    padding: 0;\n",
              "    width: 32px;\n",
              "  }\n",
              "\n",
              "  .colab-df-quickchart:hover {\n",
              "    background-color: var(--hover-bg-color);\n",
              "    box-shadow: 0 1px 2px rgba(60, 64, 67, 0.3), 0 1px 3px 1px rgba(60, 64, 67, 0.15);\n",
              "    fill: var(--button-hover-fill-color);\n",
              "  }\n",
              "\n",
              "  .colab-df-quickchart-complete:disabled,\n",
              "  .colab-df-quickchart-complete:disabled:hover {\n",
              "    background-color: var(--disabled-bg-color);\n",
              "    fill: var(--disabled-fill-color);\n",
              "    box-shadow: none;\n",
              "  }\n",
              "\n",
              "  .colab-df-spinner {\n",
              "    border: 2px solid var(--fill-color);\n",
              "    border-color: transparent;\n",
              "    border-bottom-color: var(--fill-color);\n",
              "    animation:\n",
              "      spin 1s steps(1) infinite;\n",
              "  }\n",
              "\n",
              "  @keyframes spin {\n",
              "    0% {\n",
              "      border-color: transparent;\n",
              "      border-bottom-color: var(--fill-color);\n",
              "      border-left-color: var(--fill-color);\n",
              "    }\n",
              "    20% {\n",
              "      border-color: transparent;\n",
              "      border-left-color: var(--fill-color);\n",
              "      border-top-color: var(--fill-color);\n",
              "    }\n",
              "    30% {\n",
              "      border-color: transparent;\n",
              "      border-left-color: var(--fill-color);\n",
              "      border-top-color: var(--fill-color);\n",
              "      border-right-color: var(--fill-color);\n",
              "    }\n",
              "    40% {\n",
              "      border-color: transparent;\n",
              "      border-right-color: var(--fill-color);\n",
              "      border-top-color: var(--fill-color);\n",
              "    }\n",
              "    60% {\n",
              "      border-color: transparent;\n",
              "      border-right-color: var(--fill-color);\n",
              "    }\n",
              "    80% {\n",
              "      border-color: transparent;\n",
              "      border-right-color: var(--fill-color);\n",
              "      border-bottom-color: var(--fill-color);\n",
              "    }\n",
              "    90% {\n",
              "      border-color: transparent;\n",
              "      border-bottom-color: var(--fill-color);\n",
              "    }\n",
              "  }\n",
              "</style>\n",
              "\n",
              "  <script>\n",
              "    async function quickchart(key) {\n",
              "      const quickchartButtonEl =\n",
              "        document.querySelector('#' + key + ' button');\n",
              "      quickchartButtonEl.disabled = true;  // To prevent multiple clicks.\n",
              "      quickchartButtonEl.classList.add('colab-df-spinner');\n",
              "      try {\n",
              "        const charts = await google.colab.kernel.invokeFunction(\n",
              "            'suggestCharts', [key], {});\n",
              "      } catch (error) {\n",
              "        console.error('Error during call to suggestCharts:', error);\n",
              "      }\n",
              "      quickchartButtonEl.classList.remove('colab-df-spinner');\n",
              "      quickchartButtonEl.classList.add('colab-df-quickchart-complete');\n",
              "    }\n",
              "    (() => {\n",
              "      let quickchartButtonEl =\n",
              "        document.querySelector('#df-715a394d-cd89-4c8a-a4a2-2374e4bb54f9 button');\n",
              "      quickchartButtonEl.style.display =\n",
              "        google.colab.kernel.accessAllowed ? 'block' : 'none';\n",
              "    })();\n",
              "  </script>\n",
              "</div>\n",
              "    </div>\n",
              "  </div>\n"
            ]
          },
          "metadata": {},
          "execution_count": 32
        }
      ]
    },
    {
      "cell_type": "code",
      "source": [
        "knn = KNeighborsClassifier(n_neighbors=50)\n",
        "knn_fit = knn.fit(X,y)"
      ],
      "metadata": {
        "id": "UlQDIInqXoI3"
      },
      "execution_count": null,
      "outputs": []
    },
    {
      "cell_type": "code",
      "source": [
        "dt1 = DecisionTreeClassifier(max_depth=20)\n",
        "dt_pipeline = Pipeline([\n",
        "    (\"preprocess\", ct),\n",
        "    (\"dt\", dt1)\n",
        "])\n",
        "\n",
        "max_depth_values = np.arange(5, 20)\n",
        "\n",
        "parameters = {'dt__max_depth': max_depth_values}\n",
        "gscv = GridSearchCV(dt_pipeline, parameters, cv=5, scoring='accuracy')\n",
        "gscv_fitted = gscv.fit(X, y)\n",
        "\n",
        "best_max_depth = gscv_fitted.best_params_['dt__max_depth']\n",
        "best_accuracy = gscv_fitted.best_score_\n",
        "\n",
        "print(\"Best max_depth:\", best_max_depth)\n",
        "print(\"Best Accuracy:\", best_accuracy)"
      ],
      "metadata": {
        "colab": {
          "base_uri": "https://localhost:8080/"
        },
        "id": "tx1zr4PCWPN6",
        "outputId": "eb6f686c-c59a-40ef-f407-68644949c695"
      },
      "execution_count": null,
      "outputs": [
        {
          "output_type": "stream",
          "name": "stdout",
          "text": [
            "Best max_depth: 5\n",
            "Best Accuracy: 0.42855218855218863\n"
          ]
        }
      ]
    },
    {
      "cell_type": "code",
      "source": [
        "best_dt_model = gscv_fitted.best_estimator_.named_steps['dt']\n",
        "plt.figure(figsize=(15, 8))\n",
        "plot_tree(best_dt_model, filled=True, feature_names=X.columns, class_names=np.unique(y).astype(str))\n",
        "plt.show()"
      ],
      "metadata": {
        "colab": {
          "base_uri": "https://localhost:8080/",
          "height": 653
        },
        "id": "qu-dTbRcblTo",
        "outputId": "3c8c9778-530b-4f57-b2b3-646a8db9c6fe"
      },
      "execution_count": null,
      "outputs": [
        {
          "output_type": "display_data",
          "data": {
            "text/plain": [
              "<Figure size 1500x800 with 1 Axes>"
            ],
            "image/png": "[encoded data removed]"
          },
          "metadata": {}
        }
      ]
    },
    {
      "cell_type": "code",
      "source": [
        "dt = DecisionTreeClassifier(max_depth=5, random_state=51)\n",
        "dt_fit = dt.fit(X,y)"
      ],
      "metadata": {
        "id": "_1TTr3wUY9yU"
      },
      "execution_count": null,
      "outputs": []
    },
    {
      "cell_type": "code",
      "source": [
        "lr = LogisticRegression()\n",
        "lr_pipeline = Pipeline([\n",
        "    (\"preprocess\", ct),\n",
        "    (\"lr\", lr)\n",
        "])\n",
        "\n",
        "\n",
        "fitted_pipeline_lr = lr_pipeline.fit(X,y)\n",
        "\n",
        "coef_names = ct.get_feature_names_out()\n",
        "coef_with_names = zip(coef_names, fitted_pipeline_lr.named_steps['lr'].coef_[0])\n",
        "\n",
        "for name, coef in coef_with_names:\n",
        "    print(f\"{name}: {coef}\")\n",
        "\n"
      ],
      "metadata": {
        "colab": {
          "base_uri": "https://localhost:8080/"
        },
        "id": "iXFjbXvPWcvX",
        "outputId": "8431374c-ae94-43f7-dee2-76695608c5fc"
      },
      "execution_count": null,
      "outputs": [
        {
          "output_type": "stream",
          "name": "stdout",
          "text": [
            "standardize__age: -0.08567252815920194\n",
            "standardize__trtbps: -0.17990905647080868\n",
            "standardize__chol: 0.09792887309538023\n",
            "standardize__thalach: -0.5124064273157877\n",
            "remainder__sex: -0.3108515123086861\n",
            "remainder__restecg: -0.1088539238845045\n",
            "remainder__output: -1.3743010274180056\n"
          ]
        }
      ]
    },
    {
      "cell_type": "markdown",
      "source": [
        "## Q2:  OvR\n",
        "\n",
        "Create a new column in the `ha` dataset called `cp_is_3`, which is equal to `1` if the `cp` variable is equal to `3` and `0` otherwise.\n",
        "\n",
        "Then, fit a Logistic Regression to predict this new target, and report the **F1 Score**.\n",
        "\n",
        "Repeat for the other three `cp` categories.  Which category was the OvR approach best at distinguishing?"
      ],
      "metadata": {
        "id": "gYqpOtbO1EAJ"
      }
    },
    {
      "cell_type": "code",
      "source": [],
      "metadata": {
        "id": "90PfjsjW1T2Y"
      },
      "execution_count": null,
      "outputs": []
    },
    {
      "cell_type": "code",
      "source": [
        "ha['cp_is_3'] = ha['cp'].apply(lambda x: 1 if x == 3 else 0)\n",
        "\n",
        "ct = ColumnTransformer(\n",
        "    transformers=[\n",
        "        (\"standardize\", StandardScaler(), [\"age\", \"trtbps\", \"chol\", \"thalach\"])\n",
        "    ],\n",
        "    remainder='passthrough'\n",
        ")\n",
        "\n",
        "lr_pipeline = Pipeline([\n",
        "    (\"preprocess\", ct),\n",
        "    (\"lr\", LogisticRegression())\n",
        "])\n",
        "\n",
        "X = ha.drop([\"cp\", \"cp_is_3\"], axis=1)\n",
        "y = ha['cp_is_3']\n",
        "f1 = cross_val_score(lr_pipeline, X, y, cv=5, scoring='f1_macro')\n",
        "mean_f1 = np.mean(f1)\n",
        "mean_f1\n",
        "\n"
      ],
      "metadata": {
        "colab": {
          "base_uri": "https://localhost:8080/"
        },
        "id": "598phAYefTwp",
        "outputId": "db4ac597-746d-4abe-9cd8-cd83dd3d49af"
      },
      "execution_count": null,
      "outputs": [
        {
          "output_type": "execute_result",
          "data": {
            "text/plain": [
              "0.4799787225048261"
            ]
          },
          "metadata": {},
          "execution_count": 59
        }
      ]
    },
    {
      "cell_type": "code",
      "source": [
        "ha['cp_is_2'] = ha['cp'].apply(lambda x: 1 if x == 2 else 0)\n",
        "\n",
        "X = ha.drop([\"cp\", \"cp_is_2\"], axis=1)\n",
        "y = ha['cp_is_2']\n",
        "\n",
        "f1 = cross_val_score(lr_pipeline, X, y, cv=5, scoring='f1_macro')\n",
        "mean_f1 = np.mean(f1)\n",
        "mean_f1"
      ],
      "metadata": {
        "colab": {
          "base_uri": "https://localhost:8080/"
        },
        "id": "R_Q03sUYgrj8",
        "outputId": "a3d3db84-c4c0-4894-81ba-80081615e9b4"
      },
      "execution_count": null,
      "outputs": [
        {
          "output_type": "execute_result",
          "data": {
            "text/plain": [
              "0.42857024184687065"
            ]
          },
          "metadata": {},
          "execution_count": 60
        }
      ]
    },
    {
      "cell_type": "code",
      "source": [
        "ha['cp_is_1'] = ha['cp'].apply(lambda x: 1 if x == 1 else 0)\n",
        "\n",
        "X = ha.drop([\"cp\", \"cp_is_1\"], axis=1)\n",
        "y = ha['cp_is_1']\n",
        "\n",
        "f1 = cross_val_score(lr_pipeline, X, y, cv=5, scoring='f1_macro')\n",
        "mean_f1 = np.mean(f1)\n",
        "mean_f1"
      ],
      "metadata": {
        "colab": {
          "base_uri": "https://localhost:8080/"
        },
        "id": "qXYAynJOgsMX",
        "outputId": "22361e77-be78-4873-92cd-682ed93ab2fe"
      },
      "execution_count": null,
      "outputs": [
        {
          "output_type": "execute_result",
          "data": {
            "text/plain": [
              "0.6700253974293005"
            ]
          },
          "metadata": {},
          "execution_count": 61
        }
      ]
    },
    {
      "cell_type": "code",
      "source": [
        "ha['cp_is_0'] = ha['cp'].apply(lambda x: 1 if x == 0 else 0)\n",
        "\n",
        "X = ha.drop([\"cp\", \"cp_is_0\"], axis=1)\n",
        "y = ha['cp_is_0']\n",
        "\n",
        "f1 = cross_val_score(lr_pipeline, X, y, cv=5, scoring='f1_macro')\n",
        "mean_f1 = np.mean(f1)\n",
        "mean_f1"
      ],
      "metadata": {
        "colab": {
          "base_uri": "https://localhost:8080/"
        },
        "id": "47BEi409gs1Y",
        "outputId": "41586447-f36b-4daa-c733-ccd0b724449a"
      },
      "execution_count": null,
      "outputs": [
        {
          "output_type": "execute_result",
          "data": {
            "text/plain": [
              "0.9629533262830586"
            ]
          },
          "metadata": {},
          "execution_count": 63
        }
      ]
    },
    {
      "cell_type": "markdown",
      "source": [
        "## Q3: OvO\n",
        "\n",
        "Reduce your dataset to only the `0` and `1` types of chest pain.\n",
        "\n",
        "Then, fit a Logistic Regression to predict between the two groups, and report the **ROC-AUC**.  \n",
        "\n",
        "Repeat comparing category `0` to `2` and `3`.  Which pair was the OvO approach best at distinguishing?"
      ],
      "metadata": {
        "id": "lXO3jbTU1ULR"
      }
    },
    {
      "cell_type": "code",
      "source": [
        "ha.info()"
      ],
      "metadata": {
        "colab": {
          "base_uri": "https://localhost:8080/"
        },
        "id": "AwBGnygBimH7",
        "outputId": "167434f5-0a22-4b76-a1db-3b5cc3f9a769"
      },
      "execution_count": null,
      "outputs": [
        {
          "output_type": "stream",
          "name": "stdout",
          "text": [
            "<class 'pandas.core.frame.DataFrame'>\n",
            "Int64Index: 0 entries\n",
            "Data columns (total 12 columns):\n",
            " #   Column   Non-Null Count  Dtype\n",
            "---  ------   --------------  -----\n",
            " 0   age      0 non-null      int64\n",
            " 1   sex      0 non-null      int64\n",
            " 2   cp       0 non-null      int64\n",
            " 3   trtbps   0 non-null      int64\n",
            " 4   chol     0 non-null      int64\n",
            " 5   restecg  0 non-null      int64\n",
            " 6   thalach  0 non-null      int64\n",
            " 7   output   0 non-null      int64\n",
            " 8   cp_is_3  0 non-null      int64\n",
            " 9   cp_is_2  0 non-null      int64\n",
            " 10  cp_is_1  0 non-null      int64\n",
            " 11  cp_is_0  0 non-null      int64\n",
            "dtypes: int64(12)\n",
            "memory usage: 0.0 bytes\n"
          ]
        }
      ]
    },
    {
      "cell_type": "code",
      "source": [
        "ha = pd.read_csv(\"https://www.dropbox.com/s/aohbr6yb9ifmc8w/heart_attack.csv?dl=1\")"
      ],
      "metadata": {
        "id": "Nq8okoXcjfuQ"
      },
      "execution_count": null,
      "outputs": []
    },
    {
      "cell_type": "code",
      "source": [
        "ha['cp'] = ha['cp'].apply(lambda x: 1 if x == 3 else 0 if x == 2 else x)\n",
        "\n",
        "ha = ha[~ha['cp'].isin([2, 3])].copy()\n",
        "\n",
        "X = ha.drop([\"cp\"], axis=1)\n",
        "y = ha['cp']\n",
        "\n",
        "roc_auc = cross_val_score(lr_pipeline, X, y, cv=5, scoring='roc_auc')\n",
        "mean_roc_auc = np.mean(roc_auc)\n",
        "mean_roc_auc"
      ],
      "metadata": {
        "id": "THrjnRoV1siy",
        "colab": {
          "base_uri": "https://localhost:8080/"
        },
        "outputId": "02cfce49-57d0-41b5-ab3b-af4e084e865b"
      },
      "execution_count": null,
      "outputs": [
        {
          "output_type": "execute_result",
          "data": {
            "text/plain": [
              "0.7062516751541142"
            ]
          },
          "metadata": {},
          "execution_count": 86
        }
      ]
    },
    {
      "cell_type": "code",
      "source": [
        "ha['cp'] = ha['cp'].apply(lambda x: 1 if x == 2 else 0 if x == 1 else x)\n",
        "\n",
        "ha = ha[~ha['cp'].isin([1, 2])].copy()\n",
        "\n",
        "X = ha.drop([\"cp\"], axis=1)\n",
        "y = ha['cp']\n",
        "\n",
        "roc_auc = cross_val_score(lr_pipeline, X, y, cv=5, scoring='roc_auc')\n",
        "mean_roc_auc = np.mean(roc_auc)\n",
        "mean_roc_auc"
      ],
      "metadata": {
        "colab": {
          "base_uri": "https://localhost:8080/"
        },
        "id": "qow1mFUVi_WN",
        "outputId": "53d45d9b-4bf8-4c26-c5a0-1873a8de8d41"
      },
      "execution_count": null,
      "outputs": [
        {
          "output_type": "execute_result",
          "data": {
            "text/plain": [
              "0.6444957983193277"
            ]
          },
          "metadata": {},
          "execution_count": 89
        }
      ]
    },
    {
      "cell_type": "code",
      "source": [
        "ha['cp'] = ha['cp'].apply(lambda x: 1 if x == 3 else 0 if x == 1 else x)\n",
        "\n",
        "ha = ha[~ha['cp'].isin([1, 3])].copy()\n",
        "\n",
        "X = ha.drop([\"cp\"], axis=1)\n",
        "y = ha['cp']\n",
        "\n",
        "roc_auc = cross_val_score(lr_pipeline, X, y, cv=5, scoring='roc_auc')\n",
        "mean_roc_auc = np.mean(roc_auc)\n",
        "mean_roc_auc"
      ],
      "metadata": {
        "colab": {
          "base_uri": "https://localhost:8080/"
        },
        "id": "yuLpM1vijVD4",
        "outputId": "ede58e8b-f3e0-41b9-947f-4abce5bf0e1d"
      },
      "execution_count": null,
      "outputs": [
        {
          "output_type": "execute_result",
          "data": {
            "text/plain": [
              "0.5979041028175976"
            ]
          },
          "metadata": {},
          "execution_count": 84
        }
      ]
    }
  ]
}